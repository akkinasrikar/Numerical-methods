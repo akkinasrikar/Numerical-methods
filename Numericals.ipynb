{
 "cells": [
  {
   "cell_type": "code",
   "execution_count": 1,
   "metadata": {},
   "outputs": [
    {
     "name": "stdout",
     "output_type": "stream",
     "text": [
      "Requirement already satisfied: numpy in c:\\users\\personal\\appdata\\roaming\\python\\python37\\site-packages (1.18.5)\n"
     ]
    },
    {
     "name": "stderr",
     "output_type": "stream",
     "text": [
      "The system cannot find the path specified.\n",
      "WARNING: You are using pip version 20.2.2; however, version 20.2.4 is available.\n",
      "You should consider upgrading via the 'C:\\ProgramData\\Anaconda3\\python.exe -m pip install --upgrade pip' command.\n"
     ]
    },
    {
     "name": "stdout",
     "output_type": "stream",
     "text": [
      "Requirement already satisfied: sympy in c:\\programdata\\anaconda3\\lib\\site-packages (1.4)\n",
      "Requirement already satisfied: mpmath>=0.19 in c:\\programdata\\anaconda3\\lib\\site-packages (from sympy) (1.1.0)\n"
     ]
    },
    {
     "name": "stderr",
     "output_type": "stream",
     "text": [
      "The system cannot find the path specified.\n",
      "WARNING: You are using pip version 20.2.2; however, version 20.2.4 is available.\n",
      "You should consider upgrading via the 'C:\\ProgramData\\Anaconda3\\python.exe -m pip install --upgrade pip' command.\n"
     ]
    }
   ],
   "source": [
    "import warnings\n",
    "warnings.filterwarnings(\"ignore\")\n",
    "!python -m pip install numpy\n",
    "!python -m pip install sympy"
   ]
  },
  {
   "cell_type": "markdown",
   "metadata": {},
   "source": [
    "# Bijection method"
   ]
  },
  {
   "cell_type": "code",
   "execution_count": 2,
   "metadata": {},
   "outputs": [],
   "source": [
    "import numpy as np\n",
    "def func(f,x):\n",
    "    return eval(f)\n",
    "def avg(a,b):\n",
    "    return (a+b)/2\n",
    "def bisection_method(fc,i,j,r):\n",
    "    k,l=func(fc,i),func(fc,j)\n",
    "    check=k*l\n",
    "    itr=1\n",
    "    print(f\"sign checking {check}\")\n",
    "    print(f\"k is {k} l is {l}\")\n",
    "    if check<0:\n",
    "        if k<0 and l>0:    \n",
    "            while i!=j:\n",
    "                #break\n",
    "                nv=avg(i,j)\n",
    "                ur=func(fc,nv)\n",
    "                if ur<0:\n",
    "                    i=round(nv,r)\n",
    "                if ur>0:\n",
    "                    j=round(nv,r)\n",
    "                print(f\"Iteration {itr}\")\n",
    "                print(f\"avg is {nv}\")\n",
    "                print(f\"func value is {ur}\")\n",
    "                print(f\"a is {i} b is {j}\")\n",
    "                itr +=1\n",
    "        if k>0 and l<0:\n",
    "            while i!=j:\n",
    "                #break\n",
    "                nv=avg(i,j)\n",
    "                ur=func(fc,nv)\n",
    "                if ur>0:\n",
    "                    i=round(nv,r)\n",
    "                if ur<0:\n",
    "                    j=round(nv,r)\n",
    "                print(f\"Iteration {itr}\")\n",
    "                print(f\"avg is {nv}\")\n",
    "                print(f\"func value is {ur}\")\n",
    "                print(f\"a is {i} b is {j}\")\n",
    "                itr +=1\n",
    "        print(f\"final values are i={i} and j={j}\")\n",
    "        print(func(fc,i))\n",
    "    else:\n",
    "        print(\"No root\")"
   ]
  },
  {
   "cell_type": "code",
   "execution_count": 3,
   "metadata": {},
   "outputs": [
    {
     "name": "stdout",
     "output_type": "stream",
     "text": [
      "sign checking 1109.8\n",
      "k is 31.0 l is 35.8\n",
      "No root\n"
     ]
    }
   ],
   "source": [
    "bisection_method('x**2+54/x',2,5,3)"
   ]
  },
  {
   "cell_type": "markdown",
   "metadata": {},
   "source": [
    "# Newton rapson method"
   ]
  },
  {
   "cell_type": "markdown",
   "metadata": {},
   "source": [
    "$ x- f(x)/f'(x)$"
   ]
  },
  {
   "cell_type": "code",
   "execution_count": 4,
   "metadata": {},
   "outputs": [],
   "source": [
    "import numpy as np\n",
    "def func(f,x):\n",
    "    return eval(f)\n",
    "def newton_rp(fc,dfc,x,rd):\n",
    "    it=0\n",
    "    while True:\n",
    "        r=x-func(fc,x)/func(dfc,x)\n",
    "        def error(x,y):\n",
    "            er=(y-x)/y\n",
    "            if er<0:\n",
    "                return -er*100\n",
    "            else:\n",
    "                return er*100\n",
    "        it=it+1\n",
    "        print(f\"iteration {it} : r={round(r,rd)}\")\n",
    "        print(f\"error is {error(x,r)}\")\n",
    "        if round(x,rd)==round(r,rd):\n",
    "            break\n",
    "        x=r"
   ]
  },
  {
   "cell_type": "code",
   "execution_count": 5,
   "metadata": {},
   "outputs": [
    {
     "name": "stdout",
     "output_type": "stream",
     "text": [
      "iteration 1 : r=0.45063\n",
      "error is 10.956587277508154\n",
      "iteration 2 : r=0.45018\n",
      "error is 0.09841439196029202\n",
      "iteration 3 : r=0.45018\n",
      "error is 8.059578357727899e-06\n"
     ]
    }
   ],
   "source": [
    "newton_rp('np.cos(x)-2*x','-np.sin(x) - 2',0.5,5)"
   ]
  },
  {
   "cell_type": "code",
   "execution_count": 6,
   "metadata": {},
   "outputs": [
    {
     "name": "stdout",
     "output_type": "stream",
     "text": [
      "1st derivative -sin(x) - 2 2nd derivative -cos(x)\n"
     ]
    }
   ],
   "source": [
    "import sympy as sp\n",
    "from sympy import cos,sin,tan,log,exp,ln,sec,cot\n",
    "x=sp.Symbol('x')\n",
    "xdash=sp.diff(cos(x)-2*x)\n",
    "xdoudash=sp.diff(xdash)\n",
    "print(\"1st derivative\",xdash,\"2nd derivative\",xdoudash)"
   ]
  },
  {
   "cell_type": "markdown",
   "metadata": {},
   "source": [
    "# Simple fixed point"
   ]
  },
  {
   "cell_type": "code",
   "execution_count": 7,
   "metadata": {},
   "outputs": [],
   "source": [
    "import numpy as np\n",
    "def func(f,x):\n",
    "    return eval(f)\n",
    "def simple_fixed_point(fc,xi,r):\n",
    "    while True:\n",
    "        it=0\n",
    "        xp=func(fc,xi)\n",
    "        def error(x,y):\n",
    "            er=(y-x)/y\n",
    "            if er<0:\n",
    "                return -er*100\n",
    "            else:\n",
    "                return er*100\n",
    "        print(f\"error is {error(xi,xp)}\")\n",
    "        it=it+1\n",
    "        print(f\"iteration {it} : {round(xp,r)}\")\n",
    "        if round(xi,r)==round(xp,r):\n",
    "            break\n",
    "        xi=xp"
   ]
  },
  {
   "cell_type": "code",
   "execution_count": 8,
   "metadata": {},
   "outputs": [
    {
     "name": "stdout",
     "output_type": "stream",
     "text": [
      "error is 2.5025843504169587\n",
      "iteration 1 : 0.73169\n",
      "error is 1.6609454116000206\n",
      "iteration 1 : 0.74405\n",
      "error is 1.1299560596416494\n",
      "iteration 1 : 0.73573\n",
      "error is 0.7560621703893236\n",
      "iteration 1 : 0.74134\n",
      "error is 0.511588949125387\n",
      "iteration 1 : 0.73757\n",
      "error is 0.3435664891069152\n",
      "iteration 1 : 0.74011\n",
      "error is 0.23190391140674432\n",
      "iteration 1 : 0.7384\n",
      "error is 0.15599808788333497\n",
      "iteration 1 : 0.73955\n",
      "error is 0.10517971112603526\n",
      "iteration 1 : 0.73877\n",
      "error is 0.07080603253194172\n",
      "iteration 1 : 0.7393\n",
      "error is 0.0477158795311449\n",
      "iteration 1 : 0.73894\n",
      "error is 0.03213287386670854\n",
      "iteration 1 : 0.73918\n",
      "error is 0.021649226042794022\n",
      "iteration 1 : 0.73902\n",
      "error is 0.014581302204851794\n",
      "iteration 1 : 0.73913\n",
      "error is 0.009822992113398802\n",
      "iteration 1 : 0.73906\n",
      "error is 0.006616499229491677\n",
      "iteration 1 : 0.7391\n",
      "error is 0.004457128802953217\n",
      "iteration 1 : 0.73907\n",
      "error is 0.003002296017674691\n",
      "iteration 1 : 0.73909\n",
      "error is 0.0020224188122747195\n",
      "iteration 1 : 0.73908\n",
      "error is 0.0013623092594383082\n",
      "iteration 1 : 0.73909\n",
      "error is 0.0009176753372845928\n",
      "iteration 1 : 0.73908\n",
      "error is 0.0006181537734624291\n",
      "iteration 1 : 0.73909\n",
      "error is 0.0004163973480145575\n",
      "iteration 1 : 0.73908\n",
      "error is 0.00028048956814810363\n",
      "iteration 1 : 0.73909\n",
      "error is 0.00018894146224578416\n",
      "iteration 1 : 0.73908\n",
      "error is 0.00012727309880470418\n",
      "iteration 1 : 0.73909\n",
      "error is 8.573275521296528e-05\n",
      "iteration 1 : 0.73908\n",
      "error is 5.775058576077137e-05\n",
      "iteration 1 : 0.73909\n",
      "error is 3.890150260495489e-05\n",
      "iteration 1 : 0.73909\n"
     ]
    }
   ],
   "source": [
    "simple_fixed_point('np.cos(x)',0.75,5)"
   ]
  },
  {
   "cell_type": "code",
   "execution_count": 9,
   "metadata": {},
   "outputs": [
    {
     "name": "stdout",
     "output_type": "stream",
     "text": [
      "1st derivative -1.8*sin(x) 2nd derivative -1.8*cos(x)\n"
     ]
    }
   ],
   "source": [
    "import sympy as sp\n",
    "from sympy import cos,sin,tan,log,exp,ln,sec,cot\n",
    "x=sp.Symbol('x')\n",
    "xdash=sp.diff(1.8*cos(x))\n",
    "xdoudash=sp.diff(xdash)\n",
    "print(\"1st derivative\",xdash,\"2nd derivative\",xdoudash)"
   ]
  },
  {
   "cell_type": "code",
   "execution_count": 10,
   "metadata": {},
   "outputs": [
    {
     "data": {
      "text/plain": [
       "-1.5146477726542138"
      ]
     },
     "execution_count": 10,
     "metadata": {},
     "output_type": "execute_result"
    }
   ],
   "source": [
    "func('-1.8*np.sin(x)',1)"
   ]
  },
  {
   "cell_type": "markdown",
   "metadata": {},
   "source": [
    "# Secant method"
   ]
  },
  {
   "cell_type": "code",
   "execution_count": 11,
   "metadata": {},
   "outputs": [],
   "source": [
    "import numpy as np\n",
    "def func(f,x):\n",
    "    return eval(f)\n",
    "def secant_method(fc,xm,xi,r):\n",
    "    it=0\n",
    "    while True:\n",
    "        xp=xi-(func(fc,xi)*(xi-xm))/(func(fc,xi)-func(fc,xm))\n",
    "        def error(x,y):\n",
    "            er=(y-x)/y\n",
    "            if er<0:\n",
    "                return -er*100\n",
    "            else:\n",
    "                return er*100\n",
    "        print(f\"iteration {it+1}\") \n",
    "        print(f\"x{it}:{round(xm,r)} x{it+1}:{round(xi,r)} x{it+2}:{round(xp,r)}\")\n",
    "        print(f\"error is {error(xi,xp)}\")\n",
    "        it=it+1\n",
    "        if round(xp,r)==round(xi,r):\n",
    "            break\n",
    "        xm=xi\n",
    "        xi=xp"
   ]
  },
  {
   "cell_type": "code",
   "execution_count": 12,
   "metadata": {},
   "outputs": [
    {
     "name": "stdout",
     "output_type": "stream",
     "text": [
      "iteration 1\n",
      "x0:1 x1:2 x2:1.15912\n",
      "error is 72.54492880462418\n",
      "iteration 2\n",
      "x1:2 x2:1.15912 x3:1.09925\n",
      "error is 5.446357831903349\n",
      "iteration 3\n",
      "x2:1.15912 x3:1.09925 x4:1.11577\n",
      "error is 1.4804866074475027\n",
      "iteration 4\n",
      "x3:1.09925 x4:1.11577 x5:1.11545\n",
      "error is 0.02848714768413744\n",
      "iteration 5\n",
      "x4:1.11577 x5:1.11545 x6:1.11545\n",
      "error is 0.00021140523565112867\n"
     ]
    }
   ],
   "source": [
    "secant_method('np.exp(-x)-3*np.log(x)',1,2,5)"
   ]
  },
  {
   "cell_type": "markdown",
   "metadata": {},
   "source": [
    "# False position formula"
   ]
  },
  {
   "cell_type": "code",
   "execution_count": 43,
   "metadata": {},
   "outputs": [],
   "source": [
    "import numpy as np\n",
    "def func(f,x):\n",
    "    return eval(f)\n",
    "def f_p_m(fc,x0,x1,er):\n",
    "    if func(fc,x0)*func(fc,x1)<0:\n",
    "        it=1\n",
    "        while True:\n",
    "            x=(x0*func(fc,x1)-x1*func(fc,x0))/(func(fc,x1)-func(fc,x0))\n",
    "            print(f\"iteration {it}:\")\n",
    "            print(x)\n",
    "            fx1,fx=func(fc,x1),func(fc,x)\n",
    "            print(f\"fx1={fx1} fx={fx}\")\n",
    "            print(f\"fx1*fx={fx1*fx}\")\n",
    "            if fx1*fx<0:\n",
    "                x0=x\n",
    "                print(f\"x0={x0} x1={x1}\")\n",
    "            else:\n",
    "                x1=x\n",
    "                print(f\"x0={x0} x1={x1}\")\n",
    "            if abs(func(fc,x))<er:\n",
    "                print(f\"final root is {x}\")\n",
    "                break\n",
    "    else:\n",
    "        print(\"Choose another initial guesses\")\n",
    "        "
   ]
  },
  {
   "cell_type": "code",
   "execution_count": 44,
   "metadata": {},
   "outputs": [
    {
     "name": "stdout",
     "output_type": "stream",
     "text": [
      "iteration 1:\n",
      "1.1591183895439994\n",
      "fx1=1.944106258443223 fx=0.12921644601382432\n",
      "fx1*fx=0.2512105013892667\n",
      "x0=1 x1=1.1591183895439994\n",
      "iteration 1:\n",
      "1.1177567260855852\n",
      "fx1=0.12921644601382432 fx=0.006958709753897174\n",
      "fx1*fx=0.0008991797432403269\n",
      "x0=1 x1=1.1177567260855852\n",
      "iteration 1:\n",
      "1.1155706228931117\n",
      "fx1=0.006958709753897174 fx=0.0003699139303030008\n",
      "fx1*fx=2.574123674901931e-06\n",
      "x0=1 x1=1.1155706228931117\n",
      "iteration 1:\n",
      "1.115454529863349\n",
      "fx1=0.0003699139303030008 fx=1.9650360264633626e-05\n",
      "fx1*fx=7.26894199736054e-09\n",
      "x0=1 x1=1.115454529863349\n",
      "iteration 1:\n",
      "1.1154483631639516\n",
      "fx1=1.9650360264633626e-05 fx=1.043816820589516e-06\n",
      "fx1*fx=2.0511376574868432e-11\n",
      "x0=1 x1=1.1154483631639516\n",
      "final root is 1.1154483631639516\n"
     ]
    }
   ],
   "source": [
    "f_p_m('3*np.log(x)-np.exp(-x)',1,2,1e-5)"
   ]
  },
  {
   "cell_type": "code",
   "execution_count": 40,
   "metadata": {},
   "outputs": [
    {
     "name": "stdout",
     "output_type": "stream",
     "text": [
      "-10|-9 ==>  0.764648382533113\n",
      "-9|-8 ==>  0.13289313159032887\n",
      "-8|-7 ==>  -0.10981272476762628\n",
      "-7|-6 ==>  0.72113250516637\n",
      "-6|-5 ==>  0.2652079988676837\n",
      "-5|-4 ==>  -0.18608180628584622\n",
      "-4|-3 ==>  0.6986895067817216\n",
      "-3|-2 ==>  0.573419838596554\n",
      "-2|-1 ==>  -0.0950881269221223\n",
      "-1|0 ==>  0.0\n",
      "0|1 ==>  -0.0\n",
      "1|2 ==>  16.999572163137056\n",
      "2|3 ==>  164.4987840940788\n",
      "3|4 ==>  1164.4608026511046\n",
      "4|5 ==>  8184.42039773634\n",
      "5|6 ==>  59617.4746804406\n",
      "6|7 ==>  441057.0154325044\n",
      "7|8 ==>  3266929.4719944005\n",
      "8|9 ==>  24158847.926161602\n",
      "9|10 ==>  178509169.7742601\n"
     ]
    }
   ],
   "source": [
    "f='np.cos(x)-np.exp(x)'\n",
    "l=list(range(-10,10))\n",
    "for i in l:\n",
    "    print(f\"{i}|{i+1} ==> \",end=\" \")\n",
    "    print(func(f,i)*func(f,i+1))"
   ]
  },
  {
   "cell_type": "markdown",
   "metadata": {},
   "source": [
    "# Forward interpolation"
   ]
  },
  {
   "cell_type": "code",
   "execution_count": 60,
   "metadata": {},
   "outputs": [],
   "source": [
    "def table_difference(x,y,r):\n",
    "    values=[]\n",
    "    values.append(round(y[0],r))\n",
    "    dl=[]\n",
    "    print(\"Table Difference:\")\n",
    "    for i in y:\n",
    "        print(i,end=\" \")\n",
    "    print(\"\")\n",
    "    while True:\n",
    "        for i in range(len(y)-1):\n",
    "            dl.append(y[i+1]-y[i])\n",
    "        values.append(round(dl[0],r))\n",
    "        y=dl\n",
    "        for j in dl:\n",
    "            print(round(j,r),end=\" \")\n",
    "        print(\"\")\n",
    "        if len(dl)==1:\n",
    "            break\n",
    "        dl=[]\n",
    "    return values\n",
    "def factorial(n):\n",
    "    if n==0:\n",
    "        return 1\n",
    "    if n==1:\n",
    "        return n\n",
    "    else:\n",
    "        return n*factorial(n-1)\n",
    "def cp(p,f):\n",
    "    v=1\n",
    "    for i in range(f):\n",
    "        v=v*p\n",
    "        p=p-1\n",
    "    return v/factorial(f)"
   ]
  },
  {
   "cell_type": "code",
   "execution_count": 61,
   "metadata": {},
   "outputs": [],
   "source": [
    "def interpolation_forward(x,y,r,px):\n",
    "    diff=table_difference(x,y,r)\n",
    "    print(\"Delta y values:\")\n",
    "    print(diff)\n",
    "    h=x[1]-x[0]\n",
    "    p=(px-x[0])/h\n",
    "    print(f\"p={round(p,r)} and h={round(h,r)}\")\n",
    "    y0=diff[0]\n",
    "    yx=y0\n",
    "    summation=[y0]\n",
    "    for i in range(1,len(diff)):\n",
    "        no=cp(p,i)*diff[i]\n",
    "        summation.append(round(no,r))\n",
    "        yx=yx+no\n",
    "    print(\"Summation:\")\n",
    "    print(summation)\n",
    "    print(f\"Predicted value is {round(yx,r)}\")  "
   ]
  },
  {
   "cell_type": "code",
   "execution_count": 64,
   "metadata": {},
   "outputs": [],
   "source": [
    "x=[4 ,6, 8, 10]\n",
    "y=[1 ,3 ,8 ,16]"
   ]
  },
  {
   "cell_type": "code",
   "execution_count": 65,
   "metadata": {},
   "outputs": [
    {
     "name": "stdout",
     "output_type": "stream",
     "text": [
      "Table Difference:\n",
      "1 3 8 16 \n",
      "2 5 8 \n",
      "3 3 \n",
      "0 \n",
      "Delta y values:\n",
      "[1, 2, 3, 0]\n",
      "p=-2.0 and h=2\n",
      "Summation:\n",
      "[1, -4.0, 9.0, -0.0]\n",
      "Predicted value is 6.0\n"
     ]
    }
   ],
   "source": [
    "interpolation_forward(x,y,5,0)"
   ]
  },
  {
   "cell_type": "markdown",
   "metadata": {},
   "source": [
    "# Backward Interpolation"
   ]
  },
  {
   "cell_type": "code",
   "execution_count": 45,
   "metadata": {},
   "outputs": [],
   "source": [
    "def table_difference(x,y,r):\n",
    "    values=[]\n",
    "    values.append(round(y[-1],r))\n",
    "    dl=[]\n",
    "    print(\"Table Difference:\")\n",
    "    for i in y:\n",
    "        print(i,end=\" \")\n",
    "    print(\"\")\n",
    "    while True:\n",
    "        for i in range(len(y)-1):\n",
    "            dl.append(y[i+1]-y[i])\n",
    "        values.append(round(dl[-1],r))\n",
    "        y=dl\n",
    "        for j in dl:\n",
    "            print(round(j,r),end=\" \")\n",
    "        print(\"\")\n",
    "        if len(dl)==1:\n",
    "            break\n",
    "        dl=[]\n",
    "    return values\n",
    "def factorial(n):\n",
    "    if n==0:\n",
    "        return 1\n",
    "    if n==1:\n",
    "        return n\n",
    "    else:\n",
    "        return n*factorial(n-1)\n",
    "def cp(p,f):\n",
    "    v=1\n",
    "    for i in range(f):\n",
    "        v=v*p\n",
    "        p=p+1\n",
    "    return v/factorial(f)"
   ]
  },
  {
   "cell_type": "code",
   "execution_count": 46,
   "metadata": {},
   "outputs": [],
   "source": [
    "def interpolation_backward(x,y,r,px):\n",
    "    diff=table_difference(x,y,r)\n",
    "    print(\"Delta y values:\")\n",
    "    print(diff)\n",
    "    h=x[1]-x[0]\n",
    "    p=(px-x[-1])/h\n",
    "    print(f\"p={round(p,r)} and h={round(h,r)}\")\n",
    "    y0=diff[0]\n",
    "    yx=y0\n",
    "    summation=[y0]\n",
    "    for i in range(1,len(diff)):\n",
    "        no=cp(p,i)*diff[i]\n",
    "        summation.append(round(no,r))\n",
    "        yx=yx+no\n",
    "    print(\"Summation:\")\n",
    "    print(summation)\n",
    "    print(f\"Predicted value is {round(yx,r)}\")  "
   ]
  },
  {
   "cell_type": "code",
   "execution_count": 49,
   "metadata": {},
   "outputs": [],
   "source": [
    "x=[0.160 ,0.161, 0.162]\n",
    "y=[0.1593, 0.1603, 0.1613]"
   ]
  },
  {
   "cell_type": "code",
   "execution_count": 50,
   "metadata": {},
   "outputs": [
    {
     "name": "stdout",
     "output_type": "stream",
     "text": [
      "Table Difference:\n",
      "0.1593 0.1603 0.1613 \n",
      "0.001 0.001 \n",
      "0.0 \n",
      "Delta y values:\n",
      "[0.1613, 0.001, 0.0]\n",
      "p=-0.6 and h=0.001\n",
      "Summation:\n",
      "[0.1613, -0.0006, -0.0]\n",
      "Predicted value is 0.1607\n"
     ]
    }
   ],
   "source": [
    "interpolation_backward(x,y,5,0.1614)"
   ]
  },
  {
   "cell_type": "markdown",
   "metadata": {},
   "source": [
    "# lagranges interpolation"
   ]
  },
  {
   "cell_type": "code",
   "execution_count": 24,
   "metadata": {},
   "outputs": [],
   "source": [
    "def create_up_part(n,m):\n",
    "    ls=[]\n",
    "    for i in range(m+1):\n",
    "        if i!=n:\n",
    "            ls.append(f\"(y-x[{i}])\")\n",
    "    f=f\"*fx[{n}]\"\n",
    "    return '*'.join(ls)+f\n",
    "\n",
    "def create_down_part(n,m):\n",
    "    ls=[]\n",
    "    for i in range(m+1):\n",
    "        if i!=n:\n",
    "            ls.append(f\"(x[{n}]-x[{i}])\")\n",
    "    return '*'.join(ls)\n",
    "\n",
    "\n",
    "def lagranges_interpolation(x,fx,y):\n",
    "    x,fx,y=x,fx,y\n",
    "    s=0\n",
    "    l=len(x)\n",
    "    summation=[]\n",
    "    for i in range(l):\n",
    "        formula_up=create_up_part(i,l-1)\n",
    "        formula_down=create_down_part(i,l-1)\n",
    "        no=eval(formula_up)/eval(formula_down)\n",
    "        summation.append(no)\n",
    "        s=s+no\n",
    "    for i in summation:\n",
    "        print(round(i,5))\n",
    "    print(f\"f({y})={round(s,5)}\")    "
   ]
  },
  {
   "cell_type": "code",
   "execution_count": 25,
   "metadata": {},
   "outputs": [],
   "source": [
    "x=[4,6,8,10]\n",
    "fx=[0.69315,0.91629,1.09861]"
   ]
  },
  {
   "cell_type": "code",
   "execution_count": 26,
   "metadata": {},
   "outputs": [
    {
     "name": "stdout",
     "output_type": "stream",
     "text": [
      "-0.08318\n",
      "0.76968\n",
      "0.30761\n",
      "f(2.7)=0.99412\n"
     ]
    }
   ],
   "source": [
    "lagranges_interpolation(x,fx,2.7)"
   ]
  },
  {
   "cell_type": "markdown",
   "metadata": {},
   "source": [
    "# Newtons divided difference method"
   ]
  },
  {
   "cell_type": "code",
   "execution_count": 27,
   "metadata": {},
   "outputs": [],
   "source": [
    "def table_difference(x,y,r):\n",
    "    values=[]\n",
    "    values.append(round(y[0],r))\n",
    "    dl=[]\n",
    "    print(\"Table Difference:\")\n",
    "    for i in y:\n",
    "        print(i,end=\" \")\n",
    "    print(\"\")\n",
    "    it=1\n",
    "    while True:\n",
    "        for i in range(len(y)-1):\n",
    "            dl.append((y[i+1]-y[i])/(x[i+it]-x[i]))\n",
    "        values.append(round(dl[0],r))\n",
    "        y=dl\n",
    "        for j in dl:\n",
    "            print(round(j,r),end=\" \")\n",
    "        print(\"\")\n",
    "        it=it+1\n",
    "        if len(dl)==1:\n",
    "            break\n",
    "        dl=[]\n",
    "    return values\n",
    "def create_formula(m):\n",
    "    ls=[]\n",
    "    for i in range(m):\n",
    "        ls.append(f\"(y-x[{i}])\")\n",
    "    f=f\"*a[{m}]\"\n",
    "    return '*'.join(ls)+f"
   ]
  },
  {
   "cell_type": "code",
   "execution_count": 28,
   "metadata": {},
   "outputs": [],
   "source": [
    "def NDDM(x,fx,r,px):\n",
    "    x,fx,y=x,fx,px\n",
    "    s=fx[0]\n",
    "    a=table_difference(x,fx,r)\n",
    "    print(a)\n",
    "    summation=[s]\n",
    "    l=len(x)\n",
    "    for i in range(1,l):\n",
    "        no=eval(create_formula(i))\n",
    "        summation.append(round(no,r))\n",
    "        s=s+no\n",
    "    print(\"summation:\")\n",
    "    print(summation)\n",
    "    print(f\"f({y})={round(s,r)}\")\n",
    "        "
   ]
  },
  {
   "cell_type": "code",
   "execution_count": 29,
   "metadata": {},
   "outputs": [],
   "source": [
    "x=[300,304,305,307]\n",
    "y=[2.4771,2.4829,2.4843,2.4871]"
   ]
  },
  {
   "cell_type": "code",
   "execution_count": 30,
   "metadata": {},
   "outputs": [
    {
     "name": "stdout",
     "output_type": "stream",
     "text": [
      "Table Difference:\n",
      "2.4771 2.4829 2.4843 2.4871 \n",
      "0.00145 0.0014 0.0014 \n",
      "-1e-05 -0.0 \n",
      "0.0 \n",
      "[2.4771, 0.00145, -1e-05, 0.0]\n",
      "summation:\n",
      "[2.4771, 0.00145, 3e-05, 0.0]\n",
      "f(301)=2.47858\n"
     ]
    }
   ],
   "source": [
    "NDDM(x,y,5,301)"
   ]
  },
  {
   "cell_type": "code",
   "execution_count": 56,
   "metadata": {},
   "outputs": [],
   "source": [
    "def fun(x,y):\n",
    "    return 3*(x**2)+4*(y**2)-1"
   ]
  },
  {
   "cell_type": "code",
   "execution_count": 66,
   "metadata": {},
   "outputs": [
    {
     "data": {
      "text/plain": [
       "634.6046269999999"
      ]
     },
     "execution_count": 66,
     "metadata": {},
     "output_type": "execute_result"
    }
   ],
   "source": [
    "fun(-5.503,11.67)"
   ]
  },
  {
   "cell_type": "code",
   "execution_count": 58,
   "metadata": {},
   "outputs": [],
   "source": [
    "def fun1(x,y):\n",
    "    return x**3-6*(y**3)-1"
   ]
  },
  {
   "cell_type": "code",
   "execution_count": 59,
   "metadata": {},
   "outputs": [
    {
     "data": {
      "text/plain": [
       "4.89156991465525"
      ]
     },
     "execution_count": 59,
     "metadata": {},
     "output_type": "execute_result"
    }
   ],
   "source": [
    "fun1(0.1499,-0.99375)"
   ]
  },
  {
   "cell_type": "code",
   "execution_count": null,
   "metadata": {},
   "outputs": [],
   "source": []
  }
 ],
 "metadata": {
  "kernelspec": {
   "display_name": "Python 3",
   "language": "python",
   "name": "python3"
  },
  "language_info": {
   "codemirror_mode": {
    "name": "ipython",
    "version": 3
   },
   "file_extension": ".py",
   "mimetype": "text/x-python",
   "name": "python",
   "nbconvert_exporter": "python",
   "pygments_lexer": "ipython3",
   "version": "3.7.3"
  }
 },
 "nbformat": 4,
 "nbformat_minor": 2
}
